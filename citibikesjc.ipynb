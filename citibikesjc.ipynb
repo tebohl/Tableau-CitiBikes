{
 "cells": [
  {
   "cell_type": "code",
   "execution_count": null,
   "id": "7385bda0",
   "metadata": {},
   "outputs": [],
   "source": [
    "# Dependencies and Setup\n",
    "import pandas as pd\n",
    "import numpy as np\n",
    "\n",
    "# data files\n",
    "jan_path = \"JC-202201-citibike-tripdata.csv\"\n",
    "feb_path = \"JC-202202-citibike-tripdata.csv\"\n",
    "march_path = \"JC-202203-citibike-tripdata.csv\"\n",
    "apr_path = \"JC-202204-citibike-tripdata.csv\"\n",
    "may_path = \"JC-202205-citibike-tripdata.csv\"\n",
    "\n",
    "# Read the data\n",
    "jan_data = pd.read_csv(jan_path)\n",
    "feb_data = pd.read_csv(feb_path)\n",
    "march_data = pd.read_csv(march_path)\n",
    "apr_data = pd.read_csv(apr_path)\n",
    "may_data = pd.read_csv(may_path)"
   ]
  },
  {
   "cell_type": "code",
   "execution_count": null,
   "id": "054cbc03",
   "metadata": {},
   "outputs": [],
   "source": [
    "# Combine the data into a single dataset\n",
    "bike_data_complete = pd.concat([jan_data, feb_data, march_data, apr_data, may_data])\n",
    "\n",
    "# Display the data table for preview\n",
    "bike_data_complete.head()"
   ]
  },
  {
   "cell_type": "code",
   "execution_count": null,
   "id": "549449bc",
   "metadata": {},
   "outputs": [],
   "source": [
    "# Checking the number of rides.\n",
    "len(bike_data_complete[\"ride_id\"].unique())"
   ]
  },
  {
   "cell_type": "code",
   "execution_count": null,
   "id": "731e07ad",
   "metadata": {},
   "outputs": [],
   "source": [
    "bike_data_complete.dropna()"
   ]
  },
  {
   "cell_type": "code",
   "execution_count": null,
   "id": "0cb43edd",
   "metadata": {},
   "outputs": [],
   "source": [
    "# add a timedelta column \n",
    "\n",
    "bike_data_complete['ended_at']= pd.to_datetime(bike_data_complete['ended_at'])\n",
    "bike_data_complete['started_at']= pd.to_datetime(bike_data_complete['started_at'])\n",
    "\n",
    "bike_data_complete['total_ride_time'] = (bike_data_complete.ended_at - bike_data_complete.started_at)\n",
    "bike_data_complete['total_minutes'] = bike_data_complete['total_ride_time'].dt.total_seconds().div(60).astype(int)\n",
    "bike_data_complete.head()"
   ]
  },
  {
   "cell_type": "code",
   "execution_count": null,
   "id": "37eebd8e",
   "metadata": {},
   "outputs": [],
   "source": [
    "# define output file (csv)\n",
    "output_data_file = \"jc_bike_data_janmay.csv\"\n",
    "\n",
    "# saving the dataframe to csv\n",
    "bike_data_complete.to_csv(output_data_file)\n"
   ]
  },
  {
   "cell_type": "code",
   "execution_count": null,
   "id": "23a82101",
   "metadata": {},
   "outputs": [],
   "source": []
  }
 ],
 "metadata": {
  "kernelspec": {
   "display_name": "Python [conda env:PythonData38] *",
   "language": "python",
   "name": "conda-env-PythonData38-py"
  },
  "language_info": {
   "codemirror_mode": {
    "name": "ipython",
    "version": 3
   },
   "file_extension": ".py",
   "mimetype": "text/x-python",
   "name": "python",
   "nbconvert_exporter": "python",
   "pygments_lexer": "ipython3",
   "version": "3.8.12"
  }
 },
 "nbformat": 4,
 "nbformat_minor": 5
}
